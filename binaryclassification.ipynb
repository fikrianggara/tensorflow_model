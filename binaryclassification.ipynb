{
 "cells": [
  {
   "cell_type": "code",
   "execution_count": 2,
   "source": [
    "import pandas as pd\r\n",
    "df = pd.read_csv('citrus.csv')\r\n",
    "df.info()"
   ],
   "outputs": [
    {
     "output_type": "stream",
     "name": "stdout",
     "text": [
      "<class 'pandas.core.frame.DataFrame'>\n",
      "RangeIndex: 10000 entries, 0 to 9999\n",
      "Data columns (total 6 columns):\n",
      " #   Column    Non-Null Count  Dtype  \n",
      "---  ------    --------------  -----  \n",
      " 0   name      10000 non-null  object \n",
      " 1   diameter  10000 non-null  float64\n",
      " 2   weight    10000 non-null  float64\n",
      " 3   red       10000 non-null  int64  \n",
      " 4   green     10000 non-null  int64  \n",
      " 5   blue      10000 non-null  int64  \n",
      "dtypes: float64(2), int64(3), object(1)\n",
      "memory usage: 468.9+ KB\n"
     ]
    }
   ],
   "metadata": {}
  },
  {
   "cell_type": "code",
   "execution_count": 8,
   "source": [
    "df.head(10)\r\n",
    "\r\n",
    "df.name[df.name=='orange']=0\r\n",
    "df.name[df.name=='grapefruit']=1\r\n",
    "dataset = df.values\r\n",
    "dataset"
   ],
   "outputs": [
    {
     "output_type": "stream",
     "name": "stderr",
     "text": [
      "<ipython-input-8-54659a0cc014>:3: SettingWithCopyWarning: \n",
      "A value is trying to be set on a copy of a slice from a DataFrame\n",
      "\n",
      "See the caveats in the documentation: https://pandas.pydata.org/pandas-docs/stable/user_guide/indexing.html#returning-a-view-versus-a-copy\n",
      "  df.name[df.name=='orange']=0\n",
      "<ipython-input-8-54659a0cc014>:4: SettingWithCopyWarning: \n",
      "A value is trying to be set on a copy of a slice from a DataFrame\n",
      "\n",
      "See the caveats in the documentation: https://pandas.pydata.org/pandas-docs/stable/user_guide/indexing.html#returning-a-view-versus-a-copy\n",
      "  df.name[df.name=='grapefruit']=1\n"
     ]
    },
    {
     "output_type": "execute_result",
     "data": {
      "text/plain": [
       "array([[0, 2.96, 86.76, 172, 85, 2],\n",
       "       [0, 3.91, 88.05, 166, 78, 3],\n",
       "       [0, 4.42, 95.17, 156, 81, 2],\n",
       "       ...,\n",
       "       [1, 15.59, 256.5, 168, 82, 20],\n",
       "       [1, 15.92, 260.14, 142, 72, 11],\n",
       "       [1, 16.45, 261.51, 152, 74, 2]], dtype=object)"
      ]
     },
     "metadata": {},
     "execution_count": 8
    }
   ],
   "metadata": {}
  },
  {
   "cell_type": "code",
   "execution_count": 10,
   "source": [
    "#pisahkan label dan atribut\r\n",
    "x = dataset[:,1:6]\r\n",
    "y = dataset[:,0]"
   ],
   "outputs": [],
   "metadata": {}
  },
  {
   "cell_type": "code",
   "execution_count": 11,
   "source": [
    "#preprocessing dengan feature scaling\r\n",
    "from sklearn import preprocessing\r\n",
    "min_max_scaler = preprocessing.MinMaxScaler()\r\n",
    "x_scaled = min_max_scaler.fit_transform(x)\r\n",
    "x_scaled"
   ],
   "outputs": [
    {
     "output_type": "execute_result",
     "data": {
      "text/plain": [
       "array([[0.        , 0.        , 0.74025974, 0.63529412, 0.        ],\n",
       "       [0.07042254, 0.00738197, 0.66233766, 0.55294118, 0.01851852],\n",
       "       [0.10822832, 0.04812589, 0.53246753, 0.58823529, 0.        ],\n",
       "       ...,\n",
       "       [0.93624907, 0.97133047, 0.68831169, 0.6       , 0.33333333],\n",
       "       [0.96071164, 0.99216023, 0.35064935, 0.48235294, 0.16666667],\n",
       "       [1.        , 1.        , 0.48051948, 0.50588235, 0.        ]])"
      ]
     },
     "metadata": {},
     "execution_count": 11
    }
   ],
   "metadata": {}
  },
  {
   "cell_type": "code",
   "execution_count": 14,
   "source": [
    "#split data\r\n",
    "from sklearn.model_selection import train_test_split\r\n",
    "x_train, x_test, y_train, y_test = train_test_split(x_scaled, y, test_size = 0.3)\r\n",
    "\r\n",
    "#mengubah tipe data y\r\n",
    "import numpy as np\r\n",
    "y_train = y_train.astype(np.float32)\r\n",
    "y_test = y_test.astype(np.float32)"
   ],
   "outputs": [],
   "metadata": {}
  },
  {
   "cell_type": "code",
   "execution_count": 23,
   "source": [
    "# menentukan arsitektur model NN\r\n",
    "from keras.models import Sequential\r\n",
    "from keras.layers import Dense\r\n",
    "\r\n",
    "model = Sequential([\r\n",
    "    Dense(32, activation='relu', input_shape=(5,)),\r\n",
    "    Dense(32, activation='relu'),\r\n",
    "    Dense(1, activation='sigmoid'),\r\n",
    "])\r\n",
    "\r\n",
    "model.compile(optimizer='sgd',\r\n",
    "loss='binary_crossentropy',\r\n",
    "metrics=['accuracy'])"
   ],
   "outputs": [],
   "metadata": {}
  },
  {
   "cell_type": "code",
   "execution_count": 24,
   "source": [
    "#training model\r\n",
    "model.fit(x_train, y_train, epochs=100)"
   ],
   "outputs": [
    {
     "output_type": "stream",
     "name": "stdout",
     "text": [
      "Epoch 1/100\n",
      "219/219 [==============================] - 1s 1ms/step - loss: 0.6770 - accuracy: 0.5168\n",
      "Epoch 2/100\n",
      "219/219 [==============================] - 0s 968us/step - loss: 0.6309 - accuracy: 0.7253\n",
      "Epoch 3/100\n",
      "219/219 [==============================] - 0s 904us/step - loss: 0.5800 - accuracy: 0.8390\n",
      "Epoch 4/100\n",
      "219/219 [==============================] - 0s 977us/step - loss: 0.5133 - accuracy: 0.8777\n",
      "Epoch 5/100\n",
      "219/219 [==============================] - 0s 945us/step - loss: 0.4375 - accuracy: 0.9096\n",
      "Epoch 6/100\n",
      "219/219 [==============================] - 0s 899us/step - loss: 0.3678 - accuracy: 0.9184\n",
      "Epoch 7/100\n",
      "219/219 [==============================] - 0s 890us/step - loss: 0.3132 - accuracy: 0.9202\n",
      "Epoch 8/100\n",
      "219/219 [==============================] - 0s 1ms/step - loss: 0.2675 - accuracy: 0.9279\n",
      "Epoch 9/100\n",
      "219/219 [==============================] - 0s 908us/step - loss: 0.2419 - accuracy: 0.9236\n",
      "Epoch 10/100\n",
      "219/219 [==============================] - 0s 904us/step - loss: 0.2227 - accuracy: 0.9268\n",
      "Epoch 11/100\n",
      "219/219 [==============================] - 0s 899us/step - loss: 0.2178 - accuracy: 0.9172\n",
      "Epoch 12/100\n",
      "219/219 [==============================] - 0s 945us/step - loss: 0.1979 - accuracy: 0.9287\n",
      "Epoch 13/100\n",
      "219/219 [==============================] - 0s 922us/step - loss: 0.1980 - accuracy: 0.9246\n",
      "Epoch 14/100\n",
      "219/219 [==============================] - 0s 890us/step - loss: 0.1918 - accuracy: 0.9268\n",
      "Epoch 15/100\n",
      "219/219 [==============================] - 0s 954us/step - loss: 0.1969 - accuracy: 0.9196\n",
      "Epoch 16/100\n",
      "219/219 [==============================] - 0s 959us/step - loss: 0.1868 - accuracy: 0.9257\n",
      "Epoch 17/100\n",
      "219/219 [==============================] - 0s 986us/step - loss: 0.1845 - accuracy: 0.9302\n",
      "Epoch 18/100\n",
      "219/219 [==============================] - 0s 1ms/step - loss: 0.1749 - accuracy: 0.9314\n",
      "Epoch 19/100\n",
      "219/219 [==============================] - 0s 982us/step - loss: 0.1850 - accuracy: 0.9268\n",
      "Epoch 20/100\n",
      "219/219 [==============================] - 0s 968us/step - loss: 0.1897 - accuracy: 0.9237\n",
      "Epoch 21/100\n",
      "219/219 [==============================] - 0s 945us/step - loss: 0.1859 - accuracy: 0.9235\n",
      "Epoch 22/100\n",
      "219/219 [==============================] - 0s 950us/step - loss: 0.1786 - accuracy: 0.9276\n",
      "Epoch 23/100\n",
      "219/219 [==============================] - 0s 927us/step - loss: 0.1860 - accuracy: 0.9245\n",
      "Epoch 24/100\n",
      "219/219 [==============================] - 0s 936us/step - loss: 0.1847 - accuracy: 0.9252\n",
      "Epoch 25/100\n",
      "219/219 [==============================] - 0s 945us/step - loss: 0.1831 - accuracy: 0.9209\n",
      "Epoch 26/100\n",
      "219/219 [==============================] - 0s 1ms/step - loss: 0.1837 - accuracy: 0.9278\n",
      "Epoch 27/100\n",
      "219/219 [==============================] - 0s 982us/step - loss: 0.1771 - accuracy: 0.9249\n",
      "Epoch 28/100\n",
      "219/219 [==============================] - 0s 922us/step - loss: 0.1973 - accuracy: 0.9198\n",
      "Epoch 29/100\n",
      "219/219 [==============================] - 0s 904us/step - loss: 0.1862 - accuracy: 0.9234\n",
      "Epoch 30/100\n",
      "219/219 [==============================] - 0s 899us/step - loss: 0.1741 - accuracy: 0.9320\n",
      "Epoch 31/100\n",
      "219/219 [==============================] - 0s 913us/step - loss: 0.1843 - accuracy: 0.9283\n",
      "Epoch 32/100\n",
      "219/219 [==============================] - 0s 922us/step - loss: 0.1804 - accuracy: 0.9274\n",
      "Epoch 33/100\n",
      "219/219 [==============================] - 0s 904us/step - loss: 0.1834 - accuracy: 0.9243\n",
      "Epoch 34/100\n",
      "219/219 [==============================] - 0s 904us/step - loss: 0.1908 - accuracy: 0.9148\n",
      "Epoch 35/100\n",
      "219/219 [==============================] - 0s 890us/step - loss: 0.1767 - accuracy: 0.9222\n",
      "Epoch 36/100\n",
      "219/219 [==============================] - 0s 876us/step - loss: 0.1807 - accuracy: 0.9265\n",
      "Epoch 37/100\n",
      "219/219 [==============================] - 0s 899us/step - loss: 0.1866 - accuracy: 0.9205\n",
      "Epoch 38/100\n",
      "219/219 [==============================] - 0s 890us/step - loss: 0.1843 - accuracy: 0.9244\n",
      "Epoch 39/100\n",
      "219/219 [==============================] - 0s 904us/step - loss: 0.1820 - accuracy: 0.9215\n",
      "Epoch 40/100\n",
      "219/219 [==============================] - 0s 908us/step - loss: 0.1883 - accuracy: 0.9213\n",
      "Epoch 41/100\n",
      "219/219 [==============================] - 0s 991us/step - loss: 0.1832 - accuracy: 0.9276\n",
      "Epoch 42/100\n",
      "219/219 [==============================] - 0s 922us/step - loss: 0.1889 - accuracy: 0.9229\n",
      "Epoch 43/100\n",
      "219/219 [==============================] - 0s 890us/step - loss: 0.1866 - accuracy: 0.9242\n",
      "Epoch 44/100\n",
      "219/219 [==============================] - 0s 904us/step - loss: 0.1831 - accuracy: 0.9222\n",
      "Epoch 45/100\n",
      "219/219 [==============================] - 0s 885us/step - loss: 0.1762 - accuracy: 0.9261\n",
      "Epoch 46/100\n",
      "219/219 [==============================] - 0s 890us/step - loss: 0.1816 - accuracy: 0.9263\n",
      "Epoch 47/100\n",
      "219/219 [==============================] - 0s 1000us/step - loss: 0.1814 - accuracy: 0.9244\n",
      "Epoch 48/100\n",
      "219/219 [==============================] - 0s 899us/step - loss: 0.1773 - accuracy: 0.9254\n",
      "Epoch 49/100\n",
      "219/219 [==============================] - 0s 927us/step - loss: 0.1863 - accuracy: 0.9199\n",
      "Epoch 50/100\n",
      "219/219 [==============================] - 0s 885us/step - loss: 0.1819 - accuracy: 0.9267\n",
      "Epoch 51/100\n",
      "219/219 [==============================] - 0s 881us/step - loss: 0.1775 - accuracy: 0.9280\n",
      "Epoch 52/100\n",
      "219/219 [==============================] - 0s 950us/step - loss: 0.1756 - accuracy: 0.9298\n",
      "Epoch 53/100\n",
      "219/219 [==============================] - 0s 894us/step - loss: 0.1794 - accuracy: 0.9269\n",
      "Epoch 54/100\n",
      "219/219 [==============================] - 0s 899us/step - loss: 0.1838 - accuracy: 0.9230\n",
      "Epoch 55/100\n",
      "219/219 [==============================] - 0s 1ms/step - loss: 0.1868 - accuracy: 0.9210\n",
      "Epoch 56/100\n",
      "219/219 [==============================] - 0s 917us/step - loss: 0.1847 - accuracy: 0.9238\n",
      "Epoch 57/100\n",
      "219/219 [==============================] - 0s 899us/step - loss: 0.1784 - accuracy: 0.9234\n",
      "Epoch 58/100\n",
      "219/219 [==============================] - 0s 899us/step - loss: 0.1899 - accuracy: 0.9233\n",
      "Epoch 59/100\n",
      "219/219 [==============================] - 0s 899us/step - loss: 0.1814 - accuracy: 0.9211\n",
      "Epoch 60/100\n",
      "219/219 [==============================] - 0s 899us/step - loss: 0.1885 - accuracy: 0.9221\n",
      "Epoch 61/100\n",
      "219/219 [==============================] - 0s 1ms/step - loss: 0.1858 - accuracy: 0.9215\n",
      "Epoch 62/100\n",
      "219/219 [==============================] - 0s 1ms/step - loss: 0.1695 - accuracy: 0.9312\n",
      "Epoch 63/100\n",
      "219/219 [==============================] - 0s 1ms/step - loss: 0.1868 - accuracy: 0.9249\n",
      "Epoch 64/100\n",
      "219/219 [==============================] - 0s 1ms/step - loss: 0.1739 - accuracy: 0.9284\n",
      "Epoch 65/100\n",
      "219/219 [==============================] - 0s 2ms/step - loss: 0.1928 - accuracy: 0.9176\n",
      "Epoch 66/100\n",
      "219/219 [==============================] - 0s 1ms/step - loss: 0.1839 - accuracy: 0.9211\n",
      "Epoch 67/100\n",
      "219/219 [==============================] - 0s 1ms/step - loss: 0.1699 - accuracy: 0.9356\n",
      "Epoch 68/100\n",
      "219/219 [==============================] - 0s 945us/step - loss: 0.1774 - accuracy: 0.9281\n",
      "Epoch 69/100\n",
      "219/219 [==============================] - 0s 885us/step - loss: 0.1786 - accuracy: 0.9270\n",
      "Epoch 70/100\n",
      "219/219 [==============================] - 0s 839us/step - loss: 0.1891 - accuracy: 0.9245\n",
      "Epoch 71/100\n",
      "219/219 [==============================] - 0s 876us/step - loss: 0.1791 - accuracy: 0.9278\n",
      "Epoch 72/100\n",
      "219/219 [==============================] - 0s 862us/step - loss: 0.1845 - accuracy: 0.9231\n",
      "Epoch 73/100\n",
      "219/219 [==============================] - 0s 885us/step - loss: 0.1713 - accuracy: 0.9310\n",
      "Epoch 74/100\n",
      "219/219 [==============================] - 0s 858us/step - loss: 0.1777 - accuracy: 0.9252\n",
      "Epoch 75/100\n",
      "219/219 [==============================] - 0s 858us/step - loss: 0.1839 - accuracy: 0.9225\n",
      "Epoch 76/100\n",
      "219/219 [==============================] - 0s 862us/step - loss: 0.1773 - accuracy: 0.9258\n",
      "Epoch 77/100\n",
      "219/219 [==============================] - 0s 890us/step - loss: 0.1761 - accuracy: 0.9284\n",
      "Epoch 78/100\n",
      "219/219 [==============================] - 0s 876us/step - loss: 0.1784 - accuracy: 0.9269\n",
      "Epoch 79/100\n",
      "219/219 [==============================] - 0s 872us/step - loss: 0.1743 - accuracy: 0.9255\n",
      "Epoch 80/100\n",
      "219/219 [==============================] - 0s 872us/step - loss: 0.1793 - accuracy: 0.9244\n",
      "Epoch 81/100\n",
      "219/219 [==============================] - 0s 876us/step - loss: 0.1799 - accuracy: 0.9255\n",
      "Epoch 82/100\n",
      "219/219 [==============================] - 0s 853us/step - loss: 0.1815 - accuracy: 0.9238\n",
      "Epoch 83/100\n",
      "219/219 [==============================] - 0s 858us/step - loss: 0.1686 - accuracy: 0.9312\n",
      "Epoch 84/100\n",
      "219/219 [==============================] - 0s 890us/step - loss: 0.1820 - accuracy: 0.9236\n",
      "Epoch 85/100\n",
      "219/219 [==============================] - 0s 1ms/step - loss: 0.1716 - accuracy: 0.9321\n",
      "Epoch 86/100\n",
      "219/219 [==============================] - 0s 963us/step - loss: 0.1715 - accuracy: 0.9304\n",
      "Epoch 87/100\n",
      "219/219 [==============================] - 0s 849us/step - loss: 0.1701 - accuracy: 0.9291\n",
      "Epoch 88/100\n",
      "219/219 [==============================] - 0s 853us/step - loss: 0.1818 - accuracy: 0.9275\n",
      "Epoch 89/100\n",
      "219/219 [==============================] - 0s 862us/step - loss: 0.1859 - accuracy: 0.9236\n",
      "Epoch 90/100\n",
      "219/219 [==============================] - 0s 853us/step - loss: 0.1791 - accuracy: 0.9247\n",
      "Epoch 91/100\n",
      "219/219 [==============================] - 0s 844us/step - loss: 0.1784 - accuracy: 0.9290\n",
      "Epoch 92/100\n",
      "219/219 [==============================] - 0s 858us/step - loss: 0.1654 - accuracy: 0.9326\n",
      "Epoch 93/100\n",
      "219/219 [==============================] - 0s 858us/step - loss: 0.1740 - accuracy: 0.9297\n",
      "Epoch 94/100\n",
      "219/219 [==============================] - 0s 858us/step - loss: 0.1857 - accuracy: 0.9214\n",
      "Epoch 95/100\n",
      "219/219 [==============================] - 0s 885us/step - loss: 0.1790 - accuracy: 0.9261\n",
      "Epoch 96/100\n",
      "219/219 [==============================] - 0s 885us/step - loss: 0.1742 - accuracy: 0.9269\n",
      "Epoch 97/100\n",
      "219/219 [==============================] - 0s 862us/step - loss: 0.1766 - accuracy: 0.9278\n",
      "Epoch 98/100\n",
      "219/219 [==============================] - 0s 927us/step - loss: 0.1715 - accuracy: 0.9293\n",
      "Epoch 99/100\n",
      "219/219 [==============================] - 0s 986us/step - loss: 0.1804 - accuracy: 0.9273\n",
      "Epoch 100/100\n",
      "219/219 [==============================] - 0s 862us/step - loss: 0.1761 - accuracy: 0.9296\n"
     ]
    },
    {
     "output_type": "execute_result",
     "data": {
      "text/plain": [
       "<tensorflow.python.keras.callbacks.History at 0x2112d4b08e0>"
      ]
     },
     "metadata": {},
     "execution_count": 24
    }
   ],
   "metadata": {}
  },
  {
   "cell_type": "code",
   "execution_count": 18,
   "source": [
    "#evaluasi\r\n",
    "model.evaluate(x_test, y_test)"
   ],
   "outputs": [
    {
     "output_type": "stream",
     "name": "stdout",
     "text": [
      "94/94 [==============================] - 0s 699us/step - loss: 0.1721 - accuracy: 0.9323\n"
     ]
    },
    {
     "output_type": "execute_result",
     "data": {
      "text/plain": [
       "[0.17213992774486542, 0.9323333501815796]"
      ]
     },
     "metadata": {},
     "execution_count": 18
    }
   ],
   "metadata": {}
  }
 ],
 "metadata": {
  "orig_nbformat": 4,
  "language_info": {
   "name": "python",
   "version": "3.8.7",
   "mimetype": "text/x-python",
   "codemirror_mode": {
    "name": "ipython",
    "version": 3
   },
   "pygments_lexer": "ipython3",
   "nbconvert_exporter": "python",
   "file_extension": ".py"
  },
  "kernelspec": {
   "name": "python3",
   "display_name": "Python 3.8.7 64-bit"
  },
  "interpreter": {
   "hash": "965ba1120b0c101b3f715b6e258a73742ec1cf86f2c8b04492724c87d9f112c3"
  }
 },
 "nbformat": 4,
 "nbformat_minor": 2
}