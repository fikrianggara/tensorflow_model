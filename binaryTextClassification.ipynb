{
 "cells": [
  {
   "cell_type": "code",
   "execution_count": 2,
   "source": [
    "#import data\r\n",
    "import pandas as pd\r\n",
    "df = pd.read_csv('yelp_labelled.txt', names=['sentences','label'], sep='\\t')"
   ],
   "outputs": [],
   "metadata": {}
  },
  {
   "cell_type": "code",
   "execution_count": 3,
   "source": [
    "df.head(5)"
   ],
   "outputs": [
    {
     "output_type": "execute_result",
     "data": {
      "text/plain": [
       "                                           sentences  label\n",
       "0                           Wow... Loved this place.      1\n",
       "1                                 Crust is not good.      0\n",
       "2          Not tasty and the texture was just nasty.      0\n",
       "3  Stopped by during the late May bank holiday of...      1\n",
       "4  The selection on the menu was great and so wer...      1"
      ],
      "text/html": [
       "<div>\n",
       "<style scoped>\n",
       "    .dataframe tbody tr th:only-of-type {\n",
       "        vertical-align: middle;\n",
       "    }\n",
       "\n",
       "    .dataframe tbody tr th {\n",
       "        vertical-align: top;\n",
       "    }\n",
       "\n",
       "    .dataframe thead th {\n",
       "        text-align: right;\n",
       "    }\n",
       "</style>\n",
       "<table border=\"1\" class=\"dataframe\">\n",
       "  <thead>\n",
       "    <tr style=\"text-align: right;\">\n",
       "      <th></th>\n",
       "      <th>sentences</th>\n",
       "      <th>label</th>\n",
       "    </tr>\n",
       "  </thead>\n",
       "  <tbody>\n",
       "    <tr>\n",
       "      <th>0</th>\n",
       "      <td>Wow... Loved this place.</td>\n",
       "      <td>1</td>\n",
       "    </tr>\n",
       "    <tr>\n",
       "      <th>1</th>\n",
       "      <td>Crust is not good.</td>\n",
       "      <td>0</td>\n",
       "    </tr>\n",
       "    <tr>\n",
       "      <th>2</th>\n",
       "      <td>Not tasty and the texture was just nasty.</td>\n",
       "      <td>0</td>\n",
       "    </tr>\n",
       "    <tr>\n",
       "      <th>3</th>\n",
       "      <td>Stopped by during the late May bank holiday of...</td>\n",
       "      <td>1</td>\n",
       "    </tr>\n",
       "    <tr>\n",
       "      <th>4</th>\n",
       "      <td>The selection on the menu was great and so wer...</td>\n",
       "      <td>1</td>\n",
       "    </tr>\n",
       "  </tbody>\n",
       "</table>\n",
       "</div>"
      ]
     },
     "metadata": {},
     "execution_count": 3
    }
   ],
   "metadata": {}
  },
  {
   "cell_type": "code",
   "execution_count": 21,
   "source": [
    "# split data training dan testing\r\n",
    "from sklearn.model_selection import train_test_split\r\n",
    "kalimat = df['sentences'].values\r\n",
    "y = df['label'].values\r\n",
    "\r\n",
    "x_train, x_test, y_train, y_test = train_test_split(kalimat, y, test_size=0.2)\r\n"
   ],
   "outputs": [],
   "metadata": {}
  },
  {
   "cell_type": "code",
   "execution_count": 22,
   "source": [
    "# import tokenizer dan padding\r\n",
    "from tensorflow.keras.preprocessing.text import Tokenizer\r\n",
    "from tensorflow.keras.preprocessing.sequence import pad_sequences"
   ],
   "outputs": [],
   "metadata": {}
  },
  {
   "cell_type": "code",
   "execution_count": 23,
   "source": [
    "#tokenisasi dan padding text\r\n",
    "#tokenisasi\r\n",
    "tokenizer = Tokenizer(num_words=250, oov_token='x')\r\n",
    "tokenizer.fit_on_texts(x_train)\r\n",
    "tokenizer.fit_on_texts(x_test)\r\n",
    "\r\n",
    "#membuat sequence\r\n",
    "train_sequences = tokenizer.texts_to_sequences(x_train)\r\n",
    "test_sequences = tokenizer.texts_to_sequences(x_test)\r\n",
    "\r\n",
    "#menyamakan panjang sequences melalui proses padding\r\n",
    "train_padded = pad_sequences(train_sequences)\r\n",
    "test_padded = pad_sequences(test_sequences)"
   ],
   "outputs": [],
   "metadata": {}
  },
  {
   "cell_type": "code",
   "execution_count": 24,
   "source": [
    "#kita membutuhkan layer embedding untuk mengubah padded sequence menjadi vektor,\r\n",
    "# kemudian vektor vektor tersebut akan dihitung kemiripannya.\r\n",
    "#Embedding ialah representasi suatu objek menjadi vektor yang kontinyu, objek tersebut bisa kalimat,\r\n",
    "# film, manusia, dll tidak terbatas pada text.\r\n",
    "import tensorflow as tf\r\n",
    "\r\n",
    "model = tf.keras.models.Sequential([\r\n",
    "    #tf.keras.layers.Embedding(jumlah_kata, dimensi embedding, panjang_input)\r\n",
    "    tf.keras.layers.Embedding(250, 16, input_length=20),\r\n",
    "    tf.keras.layers.GlobalAveragePooling1D(),\r\n",
    "    tf.keras.layers.Dense(24,activation='relu'),\r\n",
    "    tf.keras.layers.Dense(1, activation='sigmoid')\r\n",
    "])\r\n",
    "\r\n",
    "model.compile(optimizer=tf.keras.optimizers.Adam(),\r\n",
    "    loss='binary_crossentropy',\r\n",
    "    metrics=['accuracy'])"
   ],
   "outputs": [],
   "metadata": {}
  },
  {
   "cell_type": "code",
   "execution_count": 25,
   "source": [
    "history = model.fit(train_padded, y_train, validation_data= (test_padded, y_test), epochs=30)"
   ],
   "outputs": [
    {
     "output_type": "stream",
     "name": "stdout",
     "text": [
      "Epoch 1/30\n",
      "WARNING:tensorflow:Model was constructed with shape (None, 20) for input KerasTensor(type_spec=TensorSpec(shape=(None, 20), dtype=tf.float32, name='embedding_4_input'), name='embedding_4_input', description=\"created by layer 'embedding_4_input'\"), but it was called on an input with incompatible shape (32, 32).\n",
      "WARNING:tensorflow:Model was constructed with shape (None, 20) for input KerasTensor(type_spec=TensorSpec(shape=(None, 20), dtype=tf.float32, name='embedding_4_input'), name='embedding_4_input', description=\"created by layer 'embedding_4_input'\"), but it was called on an input with incompatible shape (32, 32).\n",
      " 1/25 [>.............................] - ETA: 12s - loss: 0.6961 - accuracy: 0.3438WARNING:tensorflow:Model was constructed with shape (None, 20) for input KerasTensor(type_spec=TensorSpec(shape=(None, 20), dtype=tf.float32, name='embedding_4_input'), name='embedding_4_input', description=\"created by layer 'embedding_4_input'\"), but it was called on an input with incompatible shape (None, 31).\n",
      "25/25 [==============================] - 1s 18ms/step - loss: 0.6932 - accuracy: 0.5052 - val_loss: 0.6926 - val_accuracy: 0.5050\n",
      "Epoch 2/30\n",
      "25/25 [==============================] - 0s 3ms/step - loss: 0.6924 - accuracy: 0.5114 - val_loss: 0.6914 - val_accuracy: 0.6550\n",
      "Epoch 3/30\n",
      "25/25 [==============================] - 0s 3ms/step - loss: 0.6911 - accuracy: 0.5998 - val_loss: 0.6897 - val_accuracy: 0.6050\n",
      "Epoch 4/30\n",
      "25/25 [==============================] - 0s 3ms/step - loss: 0.6886 - accuracy: 0.6457 - val_loss: 0.6869 - val_accuracy: 0.6200\n",
      "Epoch 5/30\n",
      "25/25 [==============================] - 0s 3ms/step - loss: 0.6856 - accuracy: 0.6709 - val_loss: 0.6819 - val_accuracy: 0.6500\n",
      "Epoch 6/30\n",
      "25/25 [==============================] - 0s 3ms/step - loss: 0.6801 - accuracy: 0.6354 - val_loss: 0.6725 - val_accuracy: 0.6650\n",
      "Epoch 7/30\n",
      "25/25 [==============================] - 0s 3ms/step - loss: 0.6650 - accuracy: 0.7036 - val_loss: 0.6601 - val_accuracy: 0.6350\n",
      "Epoch 8/30\n",
      "25/25 [==============================] - 0s 3ms/step - loss: 0.6508 - accuracy: 0.6939 - val_loss: 0.6452 - val_accuracy: 0.6800\n",
      "Epoch 9/30\n",
      "25/25 [==============================] - 0s 3ms/step - loss: 0.6316 - accuracy: 0.7361 - val_loss: 0.6271 - val_accuracy: 0.6900\n",
      "Epoch 10/30\n",
      "25/25 [==============================] - 0s 3ms/step - loss: 0.6079 - accuracy: 0.7337 - val_loss: 0.6073 - val_accuracy: 0.7300\n",
      "Epoch 11/30\n",
      "25/25 [==============================] - 0s 3ms/step - loss: 0.5788 - accuracy: 0.7715 - val_loss: 0.5878 - val_accuracy: 0.7350\n",
      "Epoch 12/30\n",
      "25/25 [==============================] - 0s 3ms/step - loss: 0.5571 - accuracy: 0.7803 - val_loss: 0.5667 - val_accuracy: 0.7250\n",
      "Epoch 13/30\n",
      "25/25 [==============================] - 0s 3ms/step - loss: 0.5248 - accuracy: 0.7967 - val_loss: 0.5465 - val_accuracy: 0.7500\n",
      "Epoch 14/30\n",
      "25/25 [==============================] - 0s 3ms/step - loss: 0.4906 - accuracy: 0.8274 - val_loss: 0.5286 - val_accuracy: 0.7650\n",
      "Epoch 15/30\n",
      "25/25 [==============================] - 0s 3ms/step - loss: 0.4643 - accuracy: 0.8378 - val_loss: 0.5116 - val_accuracy: 0.7700\n",
      "Epoch 16/30\n",
      "25/25 [==============================] - 0s 3ms/step - loss: 0.4486 - accuracy: 0.8375 - val_loss: 0.4963 - val_accuracy: 0.7750\n",
      "Epoch 17/30\n",
      "25/25 [==============================] - 0s 3ms/step - loss: 0.4296 - accuracy: 0.8364 - val_loss: 0.4832 - val_accuracy: 0.7750\n",
      "Epoch 18/30\n",
      "25/25 [==============================] - 0s 3ms/step - loss: 0.4203 - accuracy: 0.8390 - val_loss: 0.4746 - val_accuracy: 0.7950\n",
      "Epoch 19/30\n",
      "25/25 [==============================] - 0s 3ms/step - loss: 0.3810 - accuracy: 0.8547 - val_loss: 0.4627 - val_accuracy: 0.7900\n",
      "Epoch 20/30\n",
      "25/25 [==============================] - 0s 3ms/step - loss: 0.3882 - accuracy: 0.8339 - val_loss: 0.4621 - val_accuracy: 0.7900\n",
      "Epoch 21/30\n",
      "25/25 [==============================] - 0s 3ms/step - loss: 0.3536 - accuracy: 0.8542 - val_loss: 0.4488 - val_accuracy: 0.7850\n",
      "Epoch 22/30\n",
      "25/25 [==============================] - 0s 3ms/step - loss: 0.3551 - accuracy: 0.8558 - val_loss: 0.4437 - val_accuracy: 0.7900\n",
      "Epoch 23/30\n",
      "25/25 [==============================] - 0s 3ms/step - loss: 0.3567 - accuracy: 0.8397 - val_loss: 0.4414 - val_accuracy: 0.7750\n",
      "Epoch 24/30\n",
      "25/25 [==============================] - 0s 3ms/step - loss: 0.3266 - accuracy: 0.8732 - val_loss: 0.4357 - val_accuracy: 0.7850\n",
      "Epoch 25/30\n",
      "25/25 [==============================] - 0s 3ms/step - loss: 0.3712 - accuracy: 0.8346 - val_loss: 0.4313 - val_accuracy: 0.7900\n",
      "Epoch 26/30\n",
      "25/25 [==============================] - 0s 3ms/step - loss: 0.3249 - accuracy: 0.8713 - val_loss: 0.4343 - val_accuracy: 0.7950\n",
      "Epoch 27/30\n",
      "25/25 [==============================] - 0s 3ms/step - loss: 0.3137 - accuracy: 0.8592 - val_loss: 0.4339 - val_accuracy: 0.7900\n",
      "Epoch 28/30\n",
      "25/25 [==============================] - 0s 3ms/step - loss: 0.3011 - accuracy: 0.8626 - val_loss: 0.4320 - val_accuracy: 0.7900\n",
      "Epoch 29/30\n",
      "25/25 [==============================] - 0s 3ms/step - loss: 0.3201 - accuracy: 0.8627 - val_loss: 0.4268 - val_accuracy: 0.7950\n",
      "Epoch 30/30\n",
      "25/25 [==============================] - 0s 3ms/step - loss: 0.3114 - accuracy: 0.8659 - val_loss: 0.4313 - val_accuracy: 0.7900\n"
     ]
    }
   ],
   "metadata": {}
  },
  {
   "cell_type": "code",
   "execution_count": 29,
   "source": [
    "# kita bisa menggunakan LSTM (long short term memory) untuk bisa mengklasifikasikan kalimat dengan lebih baik\r\n",
    "#LSTM memperhatikan urutan dari masing masing kata dalam kalimat, dan memproses kata tersebut sehingga bisa memprediksi sebenarnya kalimat tersebut kelas apa\r\n",
    "\r\n",
    "model2 = tf.keras.models.Sequential([\r\n",
    "    #tf.keras.layers.Embedding(jumlah_kata, dimensi embedding, panjang_input)\r\n",
    "    tf.keras.layers.Embedding(input_dim=5000, output_dim=16),\r\n",
    "    tf.keras.layers.LSTM(64),\r\n",
    "    tf.keras.layers.Dense(24,activation='relu'),\r\n",
    "    tf.keras.layers.Dense(1, activation='sigmoid')\r\n",
    "])\r\n",
    "\r\n",
    "model2.compile(optimizer=tf.keras.optimizers.Adam(),\r\n",
    "    loss='binary_crossentropy',\r\n",
    "    metrics=['accuracy'])"
   ],
   "outputs": [],
   "metadata": {}
  },
  {
   "cell_type": "code",
   "execution_count": 30,
   "source": [
    "history = model2.fit(train_padded, y_train, validation_data= (test_padded, y_test), epochs=30)"
   ],
   "outputs": [
    {
     "output_type": "stream",
     "name": "stdout",
     "text": [
      "Epoch 1/30\n",
      "25/25 [==============================] - 3s 37ms/step - loss: 0.6933 - accuracy: 0.5090 - val_loss: 0.6907 - val_accuracy: 0.5700\n",
      "Epoch 2/30\n",
      "25/25 [==============================] - 0s 12ms/step - loss: 0.6883 - accuracy: 0.5957 - val_loss: 0.6799 - val_accuracy: 0.5850\n",
      "Epoch 3/30\n",
      "25/25 [==============================] - 0s 12ms/step - loss: 0.6680 - accuracy: 0.6593 - val_loss: 0.6499 - val_accuracy: 0.6550\n",
      "Epoch 4/30\n",
      "25/25 [==============================] - 0s 13ms/step - loss: 0.6120 - accuracy: 0.6791 - val_loss: 0.5709 - val_accuracy: 0.6900\n",
      "Epoch 5/30\n",
      "25/25 [==============================] - 0s 12ms/step - loss: 0.4950 - accuracy: 0.7922 - val_loss: 0.5031 - val_accuracy: 0.7500\n",
      "Epoch 6/30\n",
      "25/25 [==============================] - 0s 12ms/step - loss: 0.3996 - accuracy: 0.8087 - val_loss: 0.4971 - val_accuracy: 0.7400\n",
      "Epoch 7/30\n",
      "25/25 [==============================] - 0s 12ms/step - loss: 0.3816 - accuracy: 0.8341 - val_loss: 0.4582 - val_accuracy: 0.7850\n",
      "Epoch 8/30\n",
      "25/25 [==============================] - 0s 12ms/step - loss: 0.3153 - accuracy: 0.8757 - val_loss: 0.4424 - val_accuracy: 0.7950\n",
      "Epoch 9/30\n",
      "25/25 [==============================] - 0s 12ms/step - loss: 0.3101 - accuracy: 0.8731 - val_loss: 0.4412 - val_accuracy: 0.8100\n",
      "Epoch 10/30\n",
      "25/25 [==============================] - 0s 12ms/step - loss: 0.3485 - accuracy: 0.8665 - val_loss: 0.4589 - val_accuracy: 0.7800\n",
      "Epoch 11/30\n",
      "25/25 [==============================] - 0s 12ms/step - loss: 0.2557 - accuracy: 0.9054 - val_loss: 0.4251 - val_accuracy: 0.7900\n",
      "Epoch 12/30\n",
      "25/25 [==============================] - 0s 12ms/step - loss: 0.2690 - accuracy: 0.8842 - val_loss: 0.4404 - val_accuracy: 0.8000\n",
      "Epoch 13/30\n",
      "25/25 [==============================] - 0s 13ms/step - loss: 0.2689 - accuracy: 0.8834 - val_loss: 0.4535 - val_accuracy: 0.7850\n",
      "Epoch 14/30\n",
      "25/25 [==============================] - 0s 12ms/step - loss: 0.2431 - accuracy: 0.8957 - val_loss: 0.4518 - val_accuracy: 0.8000\n",
      "Epoch 15/30\n",
      "25/25 [==============================] - 0s 12ms/step - loss: 0.2993 - accuracy: 0.8791 - val_loss: 0.4596 - val_accuracy: 0.7950\n",
      "Epoch 16/30\n",
      "25/25 [==============================] - 0s 12ms/step - loss: 0.2371 - accuracy: 0.9075 - val_loss: 0.4772 - val_accuracy: 0.7800\n",
      "Epoch 17/30\n",
      "25/25 [==============================] - 0s 12ms/step - loss: 0.2319 - accuracy: 0.8961 - val_loss: 0.5202 - val_accuracy: 0.7850\n",
      "Epoch 18/30\n",
      "25/25 [==============================] - 0s 13ms/step - loss: 0.2248 - accuracy: 0.9159 - val_loss: 0.4551 - val_accuracy: 0.8000\n",
      "Epoch 19/30\n",
      "25/25 [==============================] - 0s 12ms/step - loss: 0.2595 - accuracy: 0.8963 - val_loss: 0.5319 - val_accuracy: 0.7800\n",
      "Epoch 20/30\n",
      "25/25 [==============================] - 0s 12ms/step - loss: 0.2304 - accuracy: 0.9123 - val_loss: 0.5314 - val_accuracy: 0.8000\n",
      "Epoch 21/30\n",
      "25/25 [==============================] - 0s 12ms/step - loss: 0.2054 - accuracy: 0.9133 - val_loss: 0.5363 - val_accuracy: 0.8050\n",
      "Epoch 22/30\n",
      "25/25 [==============================] - 0s 12ms/step - loss: 0.2227 - accuracy: 0.9056 - val_loss: 0.5326 - val_accuracy: 0.8050\n",
      "Epoch 23/30\n",
      "25/25 [==============================] - 0s 13ms/step - loss: 0.2069 - accuracy: 0.9331 - val_loss: 0.5400 - val_accuracy: 0.8050\n",
      "Epoch 24/30\n",
      "25/25 [==============================] - 0s 13ms/step - loss: 0.2127 - accuracy: 0.9058 - val_loss: 0.6001 - val_accuracy: 0.8050\n",
      "Epoch 25/30\n",
      "25/25 [==============================] - 0s 11ms/step - loss: 0.1666 - accuracy: 0.9392 - val_loss: 0.5975 - val_accuracy: 0.7850\n",
      "Epoch 26/30\n",
      "25/25 [==============================] - 0s 11ms/step - loss: 0.1676 - accuracy: 0.9442 - val_loss: 0.5954 - val_accuracy: 0.8000\n",
      "Epoch 27/30\n",
      "25/25 [==============================] - 0s 11ms/step - loss: 0.1785 - accuracy: 0.9339 - val_loss: 0.5906 - val_accuracy: 0.7800\n",
      "Epoch 28/30\n",
      "25/25 [==============================] - 0s 11ms/step - loss: 0.1592 - accuracy: 0.9499 - val_loss: 0.5658 - val_accuracy: 0.8050\n",
      "Epoch 29/30\n",
      "25/25 [==============================] - 0s 11ms/step - loss: 0.1616 - accuracy: 0.9427 - val_loss: 0.6770 - val_accuracy: 0.7750\n",
      "Epoch 30/30\n",
      "25/25 [==============================] - 0s 12ms/step - loss: 0.1621 - accuracy: 0.9364 - val_loss: 0.6896 - val_accuracy: 0.7800\n"
     ]
    }
   ],
   "metadata": {}
  }
 ],
 "metadata": {
  "orig_nbformat": 4,
  "language_info": {
   "name": "python",
   "version": "3.8.7",
   "mimetype": "text/x-python",
   "codemirror_mode": {
    "name": "ipython",
    "version": 3
   },
   "pygments_lexer": "ipython3",
   "nbconvert_exporter": "python",
   "file_extension": ".py"
  },
  "kernelspec": {
   "name": "python3",
   "display_name": "Python 3.8.7 64-bit"
  },
  "interpreter": {
   "hash": "965ba1120b0c101b3f715b6e258a73742ec1cf86f2c8b04492724c87d9f112c3"
  }
 },
 "nbformat": 4,
 "nbformat_minor": 2
}