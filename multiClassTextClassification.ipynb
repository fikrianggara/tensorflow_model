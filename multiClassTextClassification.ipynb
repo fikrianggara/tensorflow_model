{
 "cells": [
  {
   "cell_type": "code",
   "execution_count": 10,
   "source": [
    "import pandas as pd \r\n",
    "df = pd.read_csv('imdb_indonesian_movies_2.csv')"
   ],
   "outputs": [],
   "metadata": {}
  },
  {
   "cell_type": "code",
   "execution_count": 11,
   "source": [
    "df.head(5)"
   ],
   "outputs": [
    {
     "output_type": "execute_result",
     "data": {
      "text/html": [
       "<div>\n",
       "<style scoped>\n",
       "    .dataframe tbody tr th:only-of-type {\n",
       "        vertical-align: middle;\n",
       "    }\n",
       "\n",
       "    .dataframe tbody tr th {\n",
       "        vertical-align: top;\n",
       "    }\n",
       "\n",
       "    .dataframe thead th {\n",
       "        text-align: right;\n",
       "    }\n",
       "</style>\n",
       "<table border=\"1\" class=\"dataframe\">\n",
       "  <thead>\n",
       "    <tr style=\"text-align: right;\">\n",
       "      <th></th>\n",
       "      <th>judul_film</th>\n",
       "      <th>ringkasan_sinopsis</th>\n",
       "      <th>genre</th>\n",
       "    </tr>\n",
       "  </thead>\n",
       "  <tbody>\n",
       "    <tr>\n",
       "      <th>0</th>\n",
       "      <td>Sunan Kalijaga</td>\n",
       "      <td>Raden Mas Said putra sulung Tumenggung Wilarik...</td>\n",
       "      <td>Drama</td>\n",
       "    </tr>\n",
       "    <tr>\n",
       "      <th>1</th>\n",
       "      <td>Gie</td>\n",
       "      <td>Soe Hok Gie adalah seorang aktivis yang hidup ...</td>\n",
       "      <td>Drama</td>\n",
       "    </tr>\n",
       "    <tr>\n",
       "      <th>2</th>\n",
       "      <td>Guru Bangsa Tjokroaminoto</td>\n",
       "      <td>Guru Bangsa Tjokroaminoto menceritakan tentang...</td>\n",
       "      <td>Drama</td>\n",
       "    </tr>\n",
       "    <tr>\n",
       "      <th>3</th>\n",
       "      <td>POL Movie</td>\n",
       "      <td>POL menceritakan kisah hidup yang luar biasa d...</td>\n",
       "      <td>Drama</td>\n",
       "    </tr>\n",
       "    <tr>\n",
       "      <th>4</th>\n",
       "      <td>Sang pencerah</td>\n",
       "      <td>Perjalanan pahlawan Indonesia KH Ahmad Dahlan ...</td>\n",
       "      <td>Drama</td>\n",
       "    </tr>\n",
       "  </tbody>\n",
       "</table>\n",
       "</div>"
      ],
      "text/plain": [
       "                  judul_film  \\\n",
       "0             Sunan Kalijaga   \n",
       "1                        Gie   \n",
       "2  Guru Bangsa Tjokroaminoto   \n",
       "3                  POL Movie   \n",
       "4              Sang pencerah   \n",
       "\n",
       "                                  ringkasan_sinopsis  genre  \n",
       "0  Raden Mas Said putra sulung Tumenggung Wilarik...  Drama  \n",
       "1  Soe Hok Gie adalah seorang aktivis yang hidup ...  Drama  \n",
       "2  Guru Bangsa Tjokroaminoto menceritakan tentang...  Drama  \n",
       "3  POL menceritakan kisah hidup yang luar biasa d...  Drama  \n",
       "4  Perjalanan pahlawan Indonesia KH Ahmad Dahlan ...  Drama  "
      ]
     },
     "metadata": {},
     "execution_count": 11
    }
   ],
   "metadata": {}
  },
  {
   "cell_type": "code",
   "execution_count": 12,
   "source": [
    "# membuat dummy variable dari genre menggunakan one hot encoding\r\n",
    "category = pd.get_dummies(df.genre)\r\n",
    "df_baru = pd.concat([df,category], axis=1)\r\n",
    "df_baru = df_baru.drop(columns='genre')\r\n",
    "df_baru.head()"
   ],
   "outputs": [
    {
     "output_type": "execute_result",
     "data": {
      "text/html": [
       "<div>\n",
       "<style scoped>\n",
       "    .dataframe tbody tr th:only-of-type {\n",
       "        vertical-align: middle;\n",
       "    }\n",
       "\n",
       "    .dataframe tbody tr th {\n",
       "        vertical-align: top;\n",
       "    }\n",
       "\n",
       "    .dataframe thead th {\n",
       "        text-align: right;\n",
       "    }\n",
       "</style>\n",
       "<table border=\"1\" class=\"dataframe\">\n",
       "  <thead>\n",
       "    <tr style=\"text-align: right;\">\n",
       "      <th></th>\n",
       "      <th>judul_film</th>\n",
       "      <th>ringkasan_sinopsis</th>\n",
       "      <th>Drama</th>\n",
       "      <th>Horor</th>\n",
       "      <th>Komedi</th>\n",
       "      <th>Laga</th>\n",
       "      <th>Romantis</th>\n",
       "    </tr>\n",
       "  </thead>\n",
       "  <tbody>\n",
       "    <tr>\n",
       "      <th>0</th>\n",
       "      <td>Sunan Kalijaga</td>\n",
       "      <td>Raden Mas Said putra sulung Tumenggung Wilarik...</td>\n",
       "      <td>1</td>\n",
       "      <td>0</td>\n",
       "      <td>0</td>\n",
       "      <td>0</td>\n",
       "      <td>0</td>\n",
       "    </tr>\n",
       "    <tr>\n",
       "      <th>1</th>\n",
       "      <td>Gie</td>\n",
       "      <td>Soe Hok Gie adalah seorang aktivis yang hidup ...</td>\n",
       "      <td>1</td>\n",
       "      <td>0</td>\n",
       "      <td>0</td>\n",
       "      <td>0</td>\n",
       "      <td>0</td>\n",
       "    </tr>\n",
       "    <tr>\n",
       "      <th>2</th>\n",
       "      <td>Guru Bangsa Tjokroaminoto</td>\n",
       "      <td>Guru Bangsa Tjokroaminoto menceritakan tentang...</td>\n",
       "      <td>1</td>\n",
       "      <td>0</td>\n",
       "      <td>0</td>\n",
       "      <td>0</td>\n",
       "      <td>0</td>\n",
       "    </tr>\n",
       "    <tr>\n",
       "      <th>3</th>\n",
       "      <td>POL Movie</td>\n",
       "      <td>POL menceritakan kisah hidup yang luar biasa d...</td>\n",
       "      <td>1</td>\n",
       "      <td>0</td>\n",
       "      <td>0</td>\n",
       "      <td>0</td>\n",
       "      <td>0</td>\n",
       "    </tr>\n",
       "    <tr>\n",
       "      <th>4</th>\n",
       "      <td>Sang pencerah</td>\n",
       "      <td>Perjalanan pahlawan Indonesia KH Ahmad Dahlan ...</td>\n",
       "      <td>1</td>\n",
       "      <td>0</td>\n",
       "      <td>0</td>\n",
       "      <td>0</td>\n",
       "      <td>0</td>\n",
       "    </tr>\n",
       "  </tbody>\n",
       "</table>\n",
       "</div>"
      ],
      "text/plain": [
       "                  judul_film  \\\n",
       "0             Sunan Kalijaga   \n",
       "1                        Gie   \n",
       "2  Guru Bangsa Tjokroaminoto   \n",
       "3                  POL Movie   \n",
       "4              Sang pencerah   \n",
       "\n",
       "                                  ringkasan_sinopsis  Drama  Horor  Komedi  \\\n",
       "0  Raden Mas Said putra sulung Tumenggung Wilarik...      1      0       0   \n",
       "1  Soe Hok Gie adalah seorang aktivis yang hidup ...      1      0       0   \n",
       "2  Guru Bangsa Tjokroaminoto menceritakan tentang...      1      0       0   \n",
       "3  POL menceritakan kisah hidup yang luar biasa d...      1      0       0   \n",
       "4  Perjalanan pahlawan Indonesia KH Ahmad Dahlan ...      1      0       0   \n",
       "\n",
       "   Laga  Romantis  \n",
       "0     0         0  \n",
       "1     0         0  \n",
       "2     0         0  \n",
       "3     0         0  \n",
       "4     0         0  "
      ]
     },
     "metadata": {},
     "execution_count": 12
    }
   ],
   "metadata": {}
  },
  {
   "cell_type": "code",
   "execution_count": 13,
   "source": [
    "# memisahkan label dan fitur dan menjadikannya array numpy\r\n",
    "sinopsis = df_baru['ringkasan_sinopsis'].values\r\n",
    "label = df_baru[['Drama','Horor','Komedi','Laga','Romantis']].values"
   ],
   "outputs": [],
   "metadata": {}
  },
  {
   "cell_type": "code",
   "execution_count": 14,
   "source": [
    "#split data training dan testing\r\n",
    "from sklearn.model_selection import train_test_split\r\n",
    "\r\n",
    "x_train, x_test, y_train, y_test = train_test_split(sinopsis, label, test_size=0.2)\r\n",
    "sinopsis"
   ],
   "outputs": [
    {
     "output_type": "execute_result",
     "data": {
      "text/plain": [
       "array(['Raden Mas Said putra sulung Tumenggung Wilarikta di bawah Kerajaan Majapahit yang berkuasa di wilayah Tuban melihat sekeluarga miskin yang menderita busung lapar. Ia merasa sangat prihatin dan hati nuraninya tergugah untuk menolong. Kemudian ia mencoba secara diam-diam mengambil makanan dari lumbung orang tuanya. Perbuatan itu tidak disetujui orang tuanya bahkan ia dihukum sekap di gudang makanan itu. Sejak kejadian itu RM Said yang tumbuh dewasa tidak betah tinggal di rumah. Ia berkelana dari daerah satu ke daerah lainnya. Dari sanalah ia tahu betapa banyak penyelewengan dan kesewenang-wenangan para lurah yang munafik. Mereka selalu mengkambing-hitamkan Tumenggung untuk menutupi kejahatannya. Atas laporan RM Said ayahnya kemudian sadar. Tetapi kemudian ia dianggap sebagai sumber fitnah. Dalam kelananya kemudian ia bertemu dengan Sunan Bonang yang banyak mencurahkan ilmunya kepada RM Said. Ia pun kemudian melakukan tapa di pinggir kali. Berkat ketabahannya menghadapi berbagai cobaan RM Said mendapatkan \"Nur\" (kekuatan) dari Ilahi. Kemudian ia diangkat menjadi Wali yang terkenal dalam deretan nama Sembilan Wali (Wali Sanga) dengan nama Sunan Kalijaga.',\n",
       "       'Soe Hok Gie adalah seorang aktivis yang hidup di tahun enam puluhan. Terletak di era paling gelap sejarah modern Indonesia GIE adalah interpretasi dari apa yang terjadi berdasarkan jurnalnya.',\n",
       "       'Guru Bangsa Tjokroaminoto menceritakan tentang setelah lepas dari era tanam paksa di akhir tahun 1800 Hindia Belanda memasuki babak baru yang berpengaruh dalam kehidupan masyarakatnya yaitu dengan gerakan politik etis yang dilakukan oleh pemerintah Belanda. Tetapi kemiskinan masih banyak terjadi. Rakyat banyak yang belum mengenyam pendidikan dan kesenjangan sosial antaretnis dan kasta masih terlihat jelas.',\n",
       "       ...,\n",
       "       'Tempat aking lebih dari 36 jam, Last Night adalah tentang pasangan yang sudah menikah, Joanna dan Michael Reed, yang berbagi apartemen di New York City. Joanna adalah seorang penulis dan Michael adalah agen real estat komersial. Selama pesta dengan rekan-rekan Michael, Joanna memperhatikan dia menghabiskan waktu dengan rekan kerja yang menarik, Laura Nunez, dan bertanya-tanya mengapa dia belum disebutkan sebelumnya. Joanna mencurigai Michael berselingkuh, dan menghadapkannya ketika mereka kembali ke rumah. Mereka bertengkar, tetapi berdamai nanti malam itu. Keesokan harinya, Michael pergi dalam perjalanan bisnis ke Philadelphia bersama rekan-rekannya Laura dan Andy; Joanna tetap tinggal untuk mengerjakan sebuah novel. Saat mendapatkan kopi, Joanna bertemu mantan pacarnya Alex Mann, dan mereka pergi ke bar di kemudian hari. Mereka makan malam dengan dua orang teman Alex, Sandra dan Truman, dan mereka mendiskusikan hubungan masa lalu mereka dan pernikahan Joanna dengan Michael. Joanna telah bertemu Michael di Paris saat mengerjakan sebuah cerita; dia tidak pernah memberi tahu Michael tentang Alex.',\n",
       "       'Proyek baru ini adalah tentang seorang lelaki Indo-Trinidadian yang kembali ke India untuk mencari akarnya, tetapi hidupnya menjadi terbalik ketika mantannya terlihat ingin menyelesaikan perceraian mereka. Film berlangsung di T & T dan India, dan mengikuti perjalanan pasangan bersama-sama saat mereka memetakan masa lalu yang hilang, dan menemukan diri mereka secara tak terduga menghidupkan kembali romantisme mereka.',\n",
       "       'Atika (Meriam Bellina) mantan penyanyi tenar, berusaha untuk bangkit kembali dari lembah narkotika. Kepada ibunya yang mengajak kembali ke Yogya, ia menyatakan tetap tinggal di Jakarta dan menetap di rumah budenya. Usahanya menemui jalan buntu. Semua kawan dan pemilik tempat hiburan menolak memakai dia. Bahkan ia sempat ditipu seorang panitia pertunjukan. Meski demikian keberuntungan datang juga. Perkenalannya dengan Sakti (Achan Rachman), seorang koreografer membuatnya bergairah untuk meniti karier kembali. Namun cobaan datang lagi. Pacar lama Sakti, Elisa (Henidar Amroe), yang telah kawin dengan anak pengusaha kaya, Willy (August Melasz) berusaha untuk memisahkan mereka. Namun Atika kembali bangkit dan berhasil.'],\n",
       "      dtype=object)"
      ]
     },
     "metadata": {},
     "execution_count": 14
    }
   ],
   "metadata": {}
  },
  {
   "cell_type": "code",
   "execution_count": 15,
   "source": [
    "# tokenisasi dan padding sinopsis\r\n",
    "from tensorflow.keras.preprocessing.text import Tokenizer\r\n",
    "from tensorflow.keras.preprocessing.sequence import pad_sequences\r\n",
    "\r\n",
    "#tokenisasi sinopsis training dan testing\r\n",
    "tokenizer = Tokenizer(num_words=5000, oov_token='x')\r\n",
    "tokenizer.fit_on_texts(x_train)\r\n",
    "tokenizer.fit_on_texts(x_test)\r\n",
    "\r\n",
    "#membuat array dari data yang sudah ditokenisasi\r\n",
    "train_sequences = tokenizer.texts_to_sequences(x_train)\r\n",
    "test_sequences = tokenizer.texts_to_sequences(x_test)\r\n",
    "\r\n",
    "#menyamakan panjang array/sequence\r\n",
    "train_padded = pad_sequences(train_sequences)\r\n",
    "test_padded = pad_sequences(test_sequences)"
   ],
   "outputs": [],
   "metadata": {}
  },
  {
   "cell_type": "code",
   "execution_count": 16,
   "source": [
    "len(test_padded[0])"
   ],
   "outputs": [
    {
     "output_type": "execute_result",
     "data": {
      "text/plain": [
       "1765"
      ]
     },
     "metadata": {},
     "execution_count": 16
    }
   ],
   "metadata": {}
  },
  {
   "cell_type": "code",
   "execution_count": 17,
   "source": [
    "#arsitektru model\r\n",
    "import tensorflow as tf\r\n",
    "\r\n",
    "model = tf.keras.models.Sequential([\r\n",
    "    tf.keras.layers.Embedding(input_dim=5000, output_dim=16),\r\n",
    "    tf.keras.layers.LSTM(64),\r\n",
    "    tf.keras.layers.Dense(128, activation='relu'),\r\n",
    "    tf.keras.layers.Dense(62, activation='relu'),\r\n",
    "    tf.keras.layers.Dense(5, activation='softmax')\r\n",
    "])\r\n",
    "\r\n",
    "model.compile(optimizer=tf.keras.optimizers.Adam(),\r\n",
    "    loss='categorical_crossentropy',\r\n",
    "    metrics=['accuracy'])"
   ],
   "outputs": [],
   "metadata": {}
  },
  {
   "cell_type": "code",
   "execution_count": 19,
   "source": [
    "#training model\r\n",
    "history = model.fit(train_padded, y_train, validation_data=(test_padded, y_test), epochs=10)"
   ],
   "outputs": [
    {
     "output_type": "stream",
     "name": "stdout",
     "text": [
      "Epoch 1/10\n",
      "26/26 [==============================] - 9s 353ms/step - loss: 1.6096 - accuracy: 0.1990 - val_loss: 1.6104 - val_accuracy: 0.1940\n",
      "Epoch 2/10\n",
      "26/26 [==============================] - 8s 293ms/step - loss: 1.6047 - accuracy: 0.2425 - val_loss: 1.6087 - val_accuracy: 0.2189\n",
      "Epoch 3/10\n",
      "26/26 [==============================] - 8s 297ms/step - loss: 1.5618 - accuracy: 0.3358 - val_loss: 1.5929 - val_accuracy: 0.2786\n",
      "Epoch 4/10\n",
      "26/26 [==============================] - 8s 317ms/step - loss: 1.3176 - accuracy: 0.5386 - val_loss: 1.6556 - val_accuracy: 0.2736\n",
      "Epoch 5/10\n",
      "26/26 [==============================] - 8s 302ms/step - loss: 0.9285 - accuracy: 0.6878 - val_loss: 2.0398 - val_accuracy: 0.2687\n",
      "Epoch 6/10\n",
      "26/26 [==============================] - 8s 313ms/step - loss: 0.5040 - accuracy: 0.8545 - val_loss: 2.6583 - val_accuracy: 0.2587\n",
      "Epoch 7/10\n",
      "26/26 [==============================] - 8s 296ms/step - loss: 0.2140 - accuracy: 0.9415 - val_loss: 3.1248 - val_accuracy: 0.2736\n",
      "Epoch 8/10\n",
      "26/26 [==============================] - 8s 304ms/step - loss: 0.0900 - accuracy: 0.9789 - val_loss: 3.5973 - val_accuracy: 0.2687\n",
      "Epoch 9/10\n",
      "26/26 [==============================] - 8s 304ms/step - loss: 0.0454 - accuracy: 0.9913 - val_loss: 4.1076 - val_accuracy: 0.2587\n",
      "Epoch 10/10\n",
      "26/26 [==============================] - 8s 300ms/step - loss: 0.0255 - accuracy: 0.9963 - val_loss: 4.5439 - val_accuracy: 0.2736\n"
     ]
    }
   ],
   "metadata": {}
  }
 ],
 "metadata": {
  "orig_nbformat": 4,
  "language_info": {
   "name": "python",
   "version": "3.8.7",
   "mimetype": "text/x-python",
   "codemirror_mode": {
    "name": "ipython",
    "version": 3
   },
   "pygments_lexer": "ipython3",
   "nbconvert_exporter": "python",
   "file_extension": ".py"
  },
  "kernelspec": {
   "name": "python3",
   "display_name": "Python 3.8.7 64-bit"
  },
  "interpreter": {
   "hash": "965ba1120b0c101b3f715b6e258a73742ec1cf86f2c8b04492724c87d9f112c3"
  }
 },
 "nbformat": 4,
 "nbformat_minor": 2
}